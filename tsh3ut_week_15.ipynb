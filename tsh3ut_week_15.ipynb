{
  "nbformat": 4,
  "nbformat_minor": 0,
  "metadata": {
    "colab": {
      "provenance": [],
      "include_colab_link": true
    },
    "kernelspec": {
      "name": "ir",
      "display_name": "R"
    },
    "language_info": {
      "name": "R"
    }
  },
  "cells": [
    {
      "cell_type": "markdown",
      "metadata": {
        "id": "view-in-github",
        "colab_type": "text"
      },
      "source": [
        "<a href=\"https://colab.research.google.com/github/margauxreynolds/ds1002-tsh3ut/blob/main/tsh3ut_week_15.ipynb\" target=\"_parent\"><img src=\"https://colab.research.google.com/assets/colab-badge.svg\" alt=\"Open In Colab\"/></a>"
      ]
    },
    {
      "cell_type": "markdown",
      "source": [
        "# Homework - Week 15\n",
        "\n",
        "Complete the following blocks as specified in the directions. Run each cell to return the desired output. Save your notebook back to your GitHub repository and submit the GitHub URL to your notebook for review."
      ],
      "metadata": {
        "id": "sZruw3XQogej"
      }
    },
    {
      "cell_type": "markdown",
      "source": [
        "## 1. Create Functions (4 pts)\n",
        "\n",
        "Create two functions in the cells below, according to the prompts given."
      ],
      "metadata": {
        "id": "lkaofBQypx1X"
      }
    },
    {
      "cell_type": "code",
      "source": [
        "# create a function in R that:\n",
        "#   1. takes a single integer as an input parameter\n",
        "#   2. determines whether the integer is even or odd\n",
        "#   3. returns a character statement \"The integer <x> is even\" or \"The integer <x> is odd\" (replace <x> with the actual input provided)\n",
        "#\n",
        "# then execute the function twice using two different input values, displaying even and odd results.\n",
        "\n",
        "even_odd <- function(var) {\n",
        "  if (var %% 2 == 0) {\n",
        "    return(paste(\"The integer\", var , \"is even!\"))\n",
        "  } else {\n",
        "    return(paste(\"The integer\", var , \"is odd!\"))\n",
        "  }\n",
        "}\n",
        "even_odd(4)\n",
        "even_odd(7)"
      ],
      "metadata": {
        "id": "1fjq5bkEp6Zv",
        "colab": {
          "base_uri": "https://localhost:8080/",
          "height": 52
        },
        "outputId": "f622a81c-d00a-495b-ce09-97478cb4fc35"
      },
      "execution_count": 328,
      "outputs": [
        {
          "output_type": "display_data",
          "data": {
            "text/html": [
              "'The integer 4 is even!'"
            ],
            "text/markdown": "'The integer 4 is even!'",
            "text/latex": "'The integer 4 is even!'",
            "text/plain": [
              "[1] \"The integer 4 is even!\""
            ]
          },
          "metadata": {}
        },
        {
          "output_type": "display_data",
          "data": {
            "text/html": [
              "'The integer 7 is odd!'"
            ],
            "text/markdown": "'The integer 7 is odd!'",
            "text/latex": "'The integer 7 is odd!'",
            "text/plain": [
              "[1] \"The integer 7 is odd!\""
            ]
          },
          "metadata": {}
        }
      ]
    },
    {
      "cell_type": "code",
      "source": [
        "# create a function in R that:\n",
        "#   1. takes 4 integer input parameters\n",
        "#   2. returns the mean value of the inputs\n",
        "#   3. has default values for the 4 input parameters, in case they are not provided when the function is called.\n",
        "#\n",
        "# then execute the function twice: once where you provide the input values, and once where you do not.\n",
        "\n",
        "mean_calc <- function(var1 = 2, var2 = 4, var3 = 6, var4 = 8) {\n",
        "  mean_val <- (mean(c(var1, var2, var3, var4)))\n",
        "  return(mean_val)\n",
        "}\n",
        "mean_calc(10, 10, 10 , 10)\n",
        "mean_calc()"
      ],
      "metadata": {
        "id": "f3IFD-T6p6Rd",
        "colab": {
          "base_uri": "https://localhost:8080/",
          "height": 52
        },
        "outputId": "0b1893f6-5611-4e34-e42d-ad6f7f9227c5"
      },
      "execution_count": 329,
      "outputs": [
        {
          "output_type": "display_data",
          "data": {
            "text/html": [
              "10"
            ],
            "text/markdown": "10",
            "text/latex": "10",
            "text/plain": [
              "[1] 10"
            ]
          },
          "metadata": {}
        },
        {
          "output_type": "display_data",
          "data": {
            "text/html": [
              "5"
            ],
            "text/markdown": "5",
            "text/latex": "5",
            "text/plain": [
              "[1] 5"
            ]
          },
          "metadata": {}
        }
      ]
    },
    {
      "cell_type": "markdown",
      "source": [
        "## 2. Plot Data (4 pts)"
      ],
      "metadata": {
        "id": "F6Rx0GIGrpOB"
      }
    },
    {
      "cell_type": "markdown",
      "source": [
        "In the cell below, write the code required to plot from the `msleep` sample data set.\n",
        "\n",
        "1. Display only animals with body weights of 30 or greater.\n",
        "2. Group the animals by `order`.\n",
        "3. Display the mean `sleep_total` for each group in a bar plot."
      ],
      "metadata": {
        "id": "IDLyOjOJsFCX"
      }
    },
    {
      "cell_type": "code",
      "source": [
        "install.packages(\"tidyverse\")\n",
        "library(tidyverse)\n",
        "install.packages(\"ggplot2\")\n",
        "library(ggplot2)\n",
        "install.packages(\"dplyr\")"
      ],
      "metadata": {
        "id": "0D5Ia-BPsoPZ",
        "colab": {
          "base_uri": "https://localhost:8080/"
        },
        "outputId": "a72fd8b3-fbd3-4935-c927-97a214a4c250"
      },
      "execution_count": 330,
      "outputs": [
        {
          "output_type": "stream",
          "name": "stderr",
          "text": [
            "Installing package into ‘/usr/local/lib/R/site-library’\n",
            "(as ‘lib’ is unspecified)\n",
            "\n",
            "Installing package into ‘/usr/local/lib/R/site-library’\n",
            "(as ‘lib’ is unspecified)\n",
            "\n",
            "Installing package into ‘/usr/local/lib/R/site-library’\n",
            "(as ‘lib’ is unspecified)\n",
            "\n"
          ]
        }
      ]
    },
    {
      "cell_type": "code",
      "source": [
        "data(msleep)"
      ],
      "metadata": {
        "id": "UVbC-H4obreO"
      },
      "execution_count": 365,
      "outputs": []
    },
    {
      "cell_type": "code",
      "source": [
        "# Display only animals with body weights of 30 or greater.\n",
        "msleep[msleep$bodywt >= 30, ]"
      ],
      "metadata": {
        "colab": {
          "base_uri": "https://localhost:8080/",
          "height": 787
        },
        "id": "fBv9HUOaCTMx",
        "outputId": "7ad22743-de09-42fb-9f43-942311e802d3"
      },
      "execution_count": 366,
      "outputs": [
        {
          "output_type": "display_data",
          "data": {
            "text/html": [
              "<table class=\"dataframe\">\n",
              "<caption>A tibble: 22 × 11</caption>\n",
              "<thead>\n",
              "\t<tr><th scope=col>name</th><th scope=col>genus</th><th scope=col>vore</th><th scope=col>order</th><th scope=col>conservation</th><th scope=col>sleep_total</th><th scope=col>sleep_rem</th><th scope=col>sleep_cycle</th><th scope=col>awake</th><th scope=col>brainwt</th><th scope=col>bodywt</th></tr>\n",
              "\t<tr><th scope=col>&lt;chr&gt;</th><th scope=col>&lt;chr&gt;</th><th scope=col>&lt;chr&gt;</th><th scope=col>&lt;chr&gt;</th><th scope=col>&lt;chr&gt;</th><th scope=col>&lt;dbl&gt;</th><th scope=col>&lt;dbl&gt;</th><th scope=col>&lt;dbl&gt;</th><th scope=col>&lt;dbl&gt;</th><th scope=col>&lt;dbl&gt;</th><th scope=col>&lt;dbl&gt;</th></tr>\n",
              "</thead>\n",
              "<tbody>\n",
              "\t<tr><td>Cheetah             </td><td>Acinonyx     </td><td>carni  </td><td>Carnivora     </td><td>lc          </td><td>12.1</td><td> NA</td><td>       NA</td><td>11.90</td><td>   NA</td><td>  50.000</td></tr>\n",
              "\t<tr><td>Cow                 </td><td>Bos          </td><td>herbi  </td><td>Artiodactyla  </td><td>domesticated</td><td> 4.0</td><td>0.7</td><td>0.6666667</td><td>20.00</td><td>0.423</td><td> 600.000</td></tr>\n",
              "\t<tr><td>Goat                </td><td>Capri        </td><td>herbi  </td><td>Artiodactyla  </td><td>lc          </td><td> 5.3</td><td>0.6</td><td>       NA</td><td>18.70</td><td>0.115</td><td>  33.500</td></tr>\n",
              "\t<tr><td>Asian elephant      </td><td>Elephas      </td><td>herbi  </td><td>Proboscidea   </td><td>en          </td><td> 3.9</td><td> NA</td><td>       NA</td><td>20.10</td><td>4.603</td><td>2547.000</td></tr>\n",
              "\t<tr><td>Horse               </td><td>Equus        </td><td>herbi  </td><td>Perissodactyla</td><td>domesticated</td><td> 2.9</td><td>0.6</td><td>1.0000000</td><td>21.10</td><td>0.655</td><td> 521.000</td></tr>\n",
              "\t<tr><td>Donkey              </td><td>Equus        </td><td>herbi  </td><td>Perissodactyla</td><td>domesticated</td><td> 3.1</td><td>0.4</td><td>       NA</td><td>20.90</td><td>0.419</td><td> 187.000</td></tr>\n",
              "\t<tr><td>Giraffe             </td><td>Giraffa      </td><td>herbi  </td><td>Artiodactyla  </td><td>cd          </td><td> 1.9</td><td>0.4</td><td>       NA</td><td>22.10</td><td>   NA</td><td> 899.995</td></tr>\n",
              "\t<tr><td>Pilot whale         </td><td>Globicephalus</td><td>carni  </td><td>Cetacea       </td><td>cd          </td><td> 2.7</td><td>0.1</td><td>       NA</td><td>21.35</td><td>   NA</td><td> 800.000</td></tr>\n",
              "\t<tr><td>Gray seal           </td><td>Haliochoerus </td><td>carni  </td><td>Carnivora     </td><td>lc          </td><td> 6.2</td><td>1.5</td><td>       NA</td><td>17.80</td><td>0.325</td><td>  85.000</td></tr>\n",
              "\t<tr><td>Human               </td><td>Homo         </td><td>omni   </td><td>Primates      </td><td>NA          </td><td> 8.0</td><td>1.9</td><td>1.5000000</td><td>16.00</td><td>1.320</td><td>  62.000</td></tr>\n",
              "\t<tr><td>African elephant    </td><td>Loxodonta    </td><td>herbi  </td><td>Proboscidea   </td><td>vu          </td><td> 3.3</td><td> NA</td><td>       NA</td><td>20.70</td><td>5.712</td><td>6654.000</td></tr>\n",
              "\t<tr><td>Sheep               </td><td>Ovis         </td><td>herbi  </td><td>Artiodactyla  </td><td>domesticated</td><td> 3.8</td><td>0.6</td><td>       NA</td><td>20.20</td><td>0.175</td><td>  55.500</td></tr>\n",
              "\t<tr><td>Chimpanzee          </td><td>Pan          </td><td>omni   </td><td>Primates      </td><td>NA          </td><td> 9.7</td><td>1.4</td><td>1.4166667</td><td>14.30</td><td>0.440</td><td>  52.200</td></tr>\n",
              "\t<tr><td>Tiger               </td><td>Panthera     </td><td>carni  </td><td>Carnivora     </td><td>en          </td><td>15.8</td><td> NA</td><td>       NA</td><td> 8.20</td><td>   NA</td><td> 162.564</td></tr>\n",
              "\t<tr><td>Jaguar              </td><td>Panthera     </td><td>carni  </td><td>Carnivora     </td><td>nt          </td><td>10.4</td><td> NA</td><td>       NA</td><td>13.60</td><td>0.157</td><td> 100.000</td></tr>\n",
              "\t<tr><td>Lion                </td><td>Panthera     </td><td>carni  </td><td>Carnivora     </td><td>vu          </td><td>13.5</td><td> NA</td><td>       NA</td><td>10.50</td><td>   NA</td><td> 161.499</td></tr>\n",
              "\t<tr><td>Caspian seal        </td><td>Phoca        </td><td>carni  </td><td>Carnivora     </td><td>vu          </td><td> 3.5</td><td>0.4</td><td>       NA</td><td>20.50</td><td>   NA</td><td>  86.000</td></tr>\n",
              "\t<tr><td>Common porpoise     </td><td>Phocoena     </td><td>carni  </td><td>Cetacea       </td><td>vu          </td><td> 5.6</td><td> NA</td><td>       NA</td><td>18.45</td><td>   NA</td><td>  53.180</td></tr>\n",
              "\t<tr><td>Giant armadillo     </td><td>Priodontes   </td><td>insecti</td><td>Cingulata     </td><td>en          </td><td>18.1</td><td>6.1</td><td>       NA</td><td> 5.90</td><td>0.081</td><td>  60.000</td></tr>\n",
              "\t<tr><td>Pig                 </td><td>Sus          </td><td>omni   </td><td>Artiodactyla  </td><td>domesticated</td><td> 9.1</td><td>2.4</td><td>0.5000000</td><td>14.90</td><td>0.180</td><td>  86.250</td></tr>\n",
              "\t<tr><td>Brazilian tapir     </td><td>Tapirus      </td><td>herbi  </td><td>Perissodactyla</td><td>vu          </td><td> 4.4</td><td>1.0</td><td>0.9000000</td><td>19.60</td><td>0.169</td><td> 207.501</td></tr>\n",
              "\t<tr><td>Bottle-nosed dolphin</td><td>Tursiops     </td><td>carni  </td><td>Cetacea       </td><td>NA          </td><td> 5.2</td><td> NA</td><td>       NA</td><td>18.80</td><td>   NA</td><td> 173.330</td></tr>\n",
              "</tbody>\n",
              "</table>\n"
            ],
            "text/markdown": "\nA tibble: 22 × 11\n\n| name &lt;chr&gt; | genus &lt;chr&gt; | vore &lt;chr&gt; | order &lt;chr&gt; | conservation &lt;chr&gt; | sleep_total &lt;dbl&gt; | sleep_rem &lt;dbl&gt; | sleep_cycle &lt;dbl&gt; | awake &lt;dbl&gt; | brainwt &lt;dbl&gt; | bodywt &lt;dbl&gt; |\n|---|---|---|---|---|---|---|---|---|---|---|\n| Cheetah              | Acinonyx      | carni   | Carnivora      | lc           | 12.1 |  NA |        NA | 11.90 |    NA |   50.000 |\n| Cow                  | Bos           | herbi   | Artiodactyla   | domesticated |  4.0 | 0.7 | 0.6666667 | 20.00 | 0.423 |  600.000 |\n| Goat                 | Capri         | herbi   | Artiodactyla   | lc           |  5.3 | 0.6 |        NA | 18.70 | 0.115 |   33.500 |\n| Asian elephant       | Elephas       | herbi   | Proboscidea    | en           |  3.9 |  NA |        NA | 20.10 | 4.603 | 2547.000 |\n| Horse                | Equus         | herbi   | Perissodactyla | domesticated |  2.9 | 0.6 | 1.0000000 | 21.10 | 0.655 |  521.000 |\n| Donkey               | Equus         | herbi   | Perissodactyla | domesticated |  3.1 | 0.4 |        NA | 20.90 | 0.419 |  187.000 |\n| Giraffe              | Giraffa       | herbi   | Artiodactyla   | cd           |  1.9 | 0.4 |        NA | 22.10 |    NA |  899.995 |\n| Pilot whale          | Globicephalus | carni   | Cetacea        | cd           |  2.7 | 0.1 |        NA | 21.35 |    NA |  800.000 |\n| Gray seal            | Haliochoerus  | carni   | Carnivora      | lc           |  6.2 | 1.5 |        NA | 17.80 | 0.325 |   85.000 |\n| Human                | Homo          | omni    | Primates       | NA           |  8.0 | 1.9 | 1.5000000 | 16.00 | 1.320 |   62.000 |\n| African elephant     | Loxodonta     | herbi   | Proboscidea    | vu           |  3.3 |  NA |        NA | 20.70 | 5.712 | 6654.000 |\n| Sheep                | Ovis          | herbi   | Artiodactyla   | domesticated |  3.8 | 0.6 |        NA | 20.20 | 0.175 |   55.500 |\n| Chimpanzee           | Pan           | omni    | Primates       | NA           |  9.7 | 1.4 | 1.4166667 | 14.30 | 0.440 |   52.200 |\n| Tiger                | Panthera      | carni   | Carnivora      | en           | 15.8 |  NA |        NA |  8.20 |    NA |  162.564 |\n| Jaguar               | Panthera      | carni   | Carnivora      | nt           | 10.4 |  NA |        NA | 13.60 | 0.157 |  100.000 |\n| Lion                 | Panthera      | carni   | Carnivora      | vu           | 13.5 |  NA |        NA | 10.50 |    NA |  161.499 |\n| Caspian seal         | Phoca         | carni   | Carnivora      | vu           |  3.5 | 0.4 |        NA | 20.50 |    NA |   86.000 |\n| Common porpoise      | Phocoena      | carni   | Cetacea        | vu           |  5.6 |  NA |        NA | 18.45 |    NA |   53.180 |\n| Giant armadillo      | Priodontes    | insecti | Cingulata      | en           | 18.1 | 6.1 |        NA |  5.90 | 0.081 |   60.000 |\n| Pig                  | Sus           | omni    | Artiodactyla   | domesticated |  9.1 | 2.4 | 0.5000000 | 14.90 | 0.180 |   86.250 |\n| Brazilian tapir      | Tapirus       | herbi   | Perissodactyla | vu           |  4.4 | 1.0 | 0.9000000 | 19.60 | 0.169 |  207.501 |\n| Bottle-nosed dolphin | Tursiops      | carni   | Cetacea        | NA           |  5.2 |  NA |        NA | 18.80 |    NA |  173.330 |\n\n",
            "text/latex": "A tibble: 22 × 11\n\\begin{tabular}{lllllllllll}\n name & genus & vore & order & conservation & sleep\\_total & sleep\\_rem & sleep\\_cycle & awake & brainwt & bodywt\\\\\n <chr> & <chr> & <chr> & <chr> & <chr> & <dbl> & <dbl> & <dbl> & <dbl> & <dbl> & <dbl>\\\\\n\\hline\n\t Cheetah              & Acinonyx      & carni   & Carnivora      & lc           & 12.1 &  NA &        NA & 11.90 &    NA &   50.000\\\\\n\t Cow                  & Bos           & herbi   & Artiodactyla   & domesticated &  4.0 & 0.7 & 0.6666667 & 20.00 & 0.423 &  600.000\\\\\n\t Goat                 & Capri         & herbi   & Artiodactyla   & lc           &  5.3 & 0.6 &        NA & 18.70 & 0.115 &   33.500\\\\\n\t Asian elephant       & Elephas       & herbi   & Proboscidea    & en           &  3.9 &  NA &        NA & 20.10 & 4.603 & 2547.000\\\\\n\t Horse                & Equus         & herbi   & Perissodactyla & domesticated &  2.9 & 0.6 & 1.0000000 & 21.10 & 0.655 &  521.000\\\\\n\t Donkey               & Equus         & herbi   & Perissodactyla & domesticated &  3.1 & 0.4 &        NA & 20.90 & 0.419 &  187.000\\\\\n\t Giraffe              & Giraffa       & herbi   & Artiodactyla   & cd           &  1.9 & 0.4 &        NA & 22.10 &    NA &  899.995\\\\\n\t Pilot whale          & Globicephalus & carni   & Cetacea        & cd           &  2.7 & 0.1 &        NA & 21.35 &    NA &  800.000\\\\\n\t Gray seal            & Haliochoerus  & carni   & Carnivora      & lc           &  6.2 & 1.5 &        NA & 17.80 & 0.325 &   85.000\\\\\n\t Human                & Homo          & omni    & Primates       & NA           &  8.0 & 1.9 & 1.5000000 & 16.00 & 1.320 &   62.000\\\\\n\t African elephant     & Loxodonta     & herbi   & Proboscidea    & vu           &  3.3 &  NA &        NA & 20.70 & 5.712 & 6654.000\\\\\n\t Sheep                & Ovis          & herbi   & Artiodactyla   & domesticated &  3.8 & 0.6 &        NA & 20.20 & 0.175 &   55.500\\\\\n\t Chimpanzee           & Pan           & omni    & Primates       & NA           &  9.7 & 1.4 & 1.4166667 & 14.30 & 0.440 &   52.200\\\\\n\t Tiger                & Panthera      & carni   & Carnivora      & en           & 15.8 &  NA &        NA &  8.20 &    NA &  162.564\\\\\n\t Jaguar               & Panthera      & carni   & Carnivora      & nt           & 10.4 &  NA &        NA & 13.60 & 0.157 &  100.000\\\\\n\t Lion                 & Panthera      & carni   & Carnivora      & vu           & 13.5 &  NA &        NA & 10.50 &    NA &  161.499\\\\\n\t Caspian seal         & Phoca         & carni   & Carnivora      & vu           &  3.5 & 0.4 &        NA & 20.50 &    NA &   86.000\\\\\n\t Common porpoise      & Phocoena      & carni   & Cetacea        & vu           &  5.6 &  NA &        NA & 18.45 &    NA &   53.180\\\\\n\t Giant armadillo      & Priodontes    & insecti & Cingulata      & en           & 18.1 & 6.1 &        NA &  5.90 & 0.081 &   60.000\\\\\n\t Pig                  & Sus           & omni    & Artiodactyla   & domesticated &  9.1 & 2.4 & 0.5000000 & 14.90 & 0.180 &   86.250\\\\\n\t Brazilian tapir      & Tapirus       & herbi   & Perissodactyla & vu           &  4.4 & 1.0 & 0.9000000 & 19.60 & 0.169 &  207.501\\\\\n\t Bottle-nosed dolphin & Tursiops      & carni   & Cetacea        & NA           &  5.2 &  NA &        NA & 18.80 &    NA &  173.330\\\\\n\\end{tabular}\n",
            "text/plain": [
              "   name                 genus         vore    order          conservation\n",
              "1  Cheetah              Acinonyx      carni   Carnivora      lc          \n",
              "2  Cow                  Bos           herbi   Artiodactyla   domesticated\n",
              "3  Goat                 Capri         herbi   Artiodactyla   lc          \n",
              "4  Asian elephant       Elephas       herbi   Proboscidea    en          \n",
              "5  Horse                Equus         herbi   Perissodactyla domesticated\n",
              "6  Donkey               Equus         herbi   Perissodactyla domesticated\n",
              "7  Giraffe              Giraffa       herbi   Artiodactyla   cd          \n",
              "8  Pilot whale          Globicephalus carni   Cetacea        cd          \n",
              "9  Gray seal            Haliochoerus  carni   Carnivora      lc          \n",
              "10 Human                Homo          omni    Primates       NA          \n",
              "11 African elephant     Loxodonta     herbi   Proboscidea    vu          \n",
              "12 Sheep                Ovis          herbi   Artiodactyla   domesticated\n",
              "13 Chimpanzee           Pan           omni    Primates       NA          \n",
              "14 Tiger                Panthera      carni   Carnivora      en          \n",
              "15 Jaguar               Panthera      carni   Carnivora      nt          \n",
              "16 Lion                 Panthera      carni   Carnivora      vu          \n",
              "17 Caspian seal         Phoca         carni   Carnivora      vu          \n",
              "18 Common porpoise      Phocoena      carni   Cetacea        vu          \n",
              "19 Giant armadillo      Priodontes    insecti Cingulata      en          \n",
              "20 Pig                  Sus           omni    Artiodactyla   domesticated\n",
              "21 Brazilian tapir      Tapirus       herbi   Perissodactyla vu          \n",
              "22 Bottle-nosed dolphin Tursiops      carni   Cetacea        NA          \n",
              "   sleep_total sleep_rem sleep_cycle awake brainwt bodywt  \n",
              "1  12.1         NA              NA   11.90    NA     50.000\n",
              "2   4.0        0.7       0.6666667   20.00 0.423    600.000\n",
              "3   5.3        0.6              NA   18.70 0.115     33.500\n",
              "4   3.9         NA              NA   20.10 4.603   2547.000\n",
              "5   2.9        0.6       1.0000000   21.10 0.655    521.000\n",
              "6   3.1        0.4              NA   20.90 0.419    187.000\n",
              "7   1.9        0.4              NA   22.10    NA    899.995\n",
              "8   2.7        0.1              NA   21.35    NA    800.000\n",
              "9   6.2        1.5              NA   17.80 0.325     85.000\n",
              "10  8.0        1.9       1.5000000   16.00 1.320     62.000\n",
              "11  3.3         NA              NA   20.70 5.712   6654.000\n",
              "12  3.8        0.6              NA   20.20 0.175     55.500\n",
              "13  9.7        1.4       1.4166667   14.30 0.440     52.200\n",
              "14 15.8         NA              NA    8.20    NA    162.564\n",
              "15 10.4         NA              NA   13.60 0.157    100.000\n",
              "16 13.5         NA              NA   10.50    NA    161.499\n",
              "17  3.5        0.4              NA   20.50    NA     86.000\n",
              "18  5.6         NA              NA   18.45    NA     53.180\n",
              "19 18.1        6.1              NA    5.90 0.081     60.000\n",
              "20  9.1        2.4       0.5000000   14.90 0.180     86.250\n",
              "21  4.4        1.0       0.9000000   19.60 0.169    207.501\n",
              "22  5.2         NA              NA   18.80    NA    173.330"
            ]
          },
          "metadata": {}
        }
      ]
    },
    {
      "cell_type": "code",
      "source": [
        "# Group the animals by order.\n",
        "# Display the mean sleep_total for each group in a bar plot.\n",
        "grouped_msleep <- msleep %>% group_by(order) %>% summarise(mean_sleep_total = mean(sleep_total, na.rm = TRUE))"
      ],
      "metadata": {
        "id": "4xJATCnnCX0v"
      },
      "execution_count": 367,
      "outputs": []
    },
    {
      "cell_type": "code",
      "source": [
        "ggplot(grouped_msleep, aes(x = order, y = mean_sleep_total)) + geom_col()"
      ],
      "metadata": {
        "colab": {
          "base_uri": "https://localhost:8080/",
          "height": 437
        },
        "id": "h5_mw9lqRsB1",
        "outputId": "489c236a-a0c7-42c3-ede4-b9334eceff89"
      },
      "execution_count": 369,
      "outputs": [
        {
          "output_type": "display_data",
          "data": {
            "text/plain": [
              "plot without title"
            ],
            "image/png": "[encoded data removed]"
          },
          "metadata": {
            "image/png": {
              "width": 420,
              "height": 420
            }
          }
        }
      ]
    },
    {
      "cell_type": "markdown",
      "source": [
        "## 3. Clean and Analyze Data Using R (4 pts)\n",
        "\n",
        "In the cells below use R to perform the following data cleaning steps on this file:\n",
        "https://raw.githubusercontent.com/nmagee/ds1002/main/data/social-media-users.csv\n",
        "\n",
        "1. Remove any duplicate rows.\n",
        "2. Remove any records where `last_login` or `birthdate` are empty.\n",
        "3. Display only the records with the 10 highest `follower` counts.\n",
        "4. Determine counts of users when grouped by continent."
      ],
      "metadata": {
        "id": "-2ZaFcCCv3o8"
      }
    },
    {
      "cell_type": "code",
      "source": [
        "df <- read.csv(\"https://raw.githubusercontent.com/nmagee/ds1002/main/data/social-media-users.csv\")\n",
        "install.packages(\"dplyr\")"
      ],
      "metadata": {
        "colab": {
          "base_uri": "https://localhost:8080/"
        },
        "id": "ak4YXxKZHYB1",
        "outputId": "8c3ca835-b366-4d25-e8e4-5f4a3ba80d0f"
      },
      "execution_count": null,
      "outputs": [
        {
          "output_type": "stream",
          "name": "stderr",
          "text": [
            "Installing package into ‘/usr/local/lib/R/site-library’\n",
            "(as ‘lib’ is unspecified)\n",
            "\n"
          ]
        }
      ]
    },
    {
      "cell_type": "code",
      "source": [
        "# Remove any duplicate rows.\n",
        "df2 <- df %>% distinct()\n",
        "\n",
        "# Remove any records where last_login or birthdate are empty.\n",
        "df2$last_login <- df[df==\"\"] <- NA\n",
        "df2$birthdate <- df[df==\"\"] <- NA\n",
        "df2 <- df %>% drop_na()"
      ],
      "metadata": {
        "id": "V4nBsdVsyauQ"
      },
      "execution_count": null,
      "outputs": []
    },
    {
      "cell_type": "code",
      "source": [
        "# Display only the records with the 10 highest follower counts.\n",
        "highest_followers <- df2 %>% arrange(desc(followers)) #not sure why the duplicates are still showing here\n",
        "slice(highest_followers, 1:10)"
      ],
      "metadata": {
        "colab": {
          "base_uri": "https://localhost:8080/",
          "height": 411
        },
        "id": "lKuZTJRF9n1g",
        "outputId": "c141202e-424e-4c60-de5b-76c4afb2b115"
      },
      "execution_count": null,
      "outputs": [
        {
          "output_type": "display_data",
          "data": {
            "text/html": [
              "<table class=\"dataframe\">\n",
              "<caption>A data.frame: 10 × 8</caption>\n",
              "<thead>\n",
              "\t<tr><th scope=col>username</th><th scope=col>full_name</th><th scope=col>birthdate</th><th scope=col>email</th><th scope=col>continent</th><th scope=col>followers</th><th scope=col>last_login</th><th scope=col>interests</th></tr>\n",
              "\t<tr><th scope=col>&lt;chr&gt;</th><th scope=col>&lt;chr&gt;</th><th scope=col>&lt;chr&gt;</th><th scope=col>&lt;chr&gt;</th><th scope=col>&lt;chr&gt;</th><th scope=col>&lt;int&gt;</th><th scope=col>&lt;chr&gt;</th><th scope=col>&lt;chr&gt;</th></tr>\n",
              "</thead>\n",
              "<tbody>\n",
              "\t<tr><td>lleckeyb6    </td><td>Lynne Leckey        </td><td>4/19/1998</td><td>lleckeyb6@tripadvisor.com</td><td>SA</td><td>99977</td><td>3/14/2021 </td><td>sports</td></tr>\n",
              "\t<tr><td>cduftondy    </td><td>Celisse Dufton      </td><td>8/24/1995</td><td>cduftondy@ox.ac.uk       </td><td>OC</td><td>99707</td><td>9/26/2021 </td><td>sports</td></tr>\n",
              "\t<tr><td>dbartalin77  </td><td>Desiree Bartalin    </td><td>8/23/1993</td><td>dbartalin77@usda.gov     </td><td>AF</td><td>99618</td><td>5/30/2022 </td><td>music </td></tr>\n",
              "\t<tr><td>grivardmp    </td><td>Gwen Rivard         </td><td>9/12/1982</td><td>grivardmp@google.com.hk  </td><td>OC</td><td>99526</td><td>4/4/2020  </td><td>music </td></tr>\n",
              "\t<tr><td>kmorriceht   </td><td>Kitti Morrice       </td><td>6/3/1995 </td><td>kmorriceht@privacy.gov.au</td><td>SA</td><td>98936</td><td>3/24/2021 </td><td>sports</td></tr>\n",
              "\t<tr><td>smacdonnell7o</td><td>Shoshanna MacDonnell</td><td>9/12/2002</td><td>smacdonnell7o@toplist.cz </td><td>AS</td><td>98760</td><td>7/20/2021 </td><td>music </td></tr>\n",
              "\t<tr><td>ebroomq9     </td><td>Early Broom         </td><td>3/10/2000</td><td>ebroomq9@fastcompany.com </td><td>AF</td><td>98606</td><td>10/22/2023</td><td>sports</td></tr>\n",
              "\t<tr><td>schapell4j   </td><td>Shepard Chapell     </td><td>9/3/1993 </td><td>schapell4j@noaa.gov      </td><td>AS</td><td>98479</td><td>2/14/2021 </td><td>music </td></tr>\n",
              "\t<tr><td>schapell4j   </td><td>Shepard Chapell     </td><td>9/3/1993 </td><td>schapell4j@noaa.gov      </td><td>AS</td><td>98479</td><td>2/14/2021 </td><td>music </td></tr>\n",
              "\t<tr><td>schapell4j   </td><td>Shepard Chapell     </td><td>9/3/1993 </td><td>schapell4j@noaa.gov      </td><td>AS</td><td>98479</td><td>2/14/2021 </td><td>music </td></tr>\n",
              "</tbody>\n",
              "</table>\n"
            ],
            "text/markdown": "\nA data.frame: 10 × 8\n\n| username &lt;chr&gt; | full_name &lt;chr&gt; | birthdate &lt;chr&gt; | email &lt;chr&gt; | continent &lt;chr&gt; | followers &lt;int&gt; | last_login &lt;chr&gt; | interests &lt;chr&gt; |\n|---|---|---|---|---|---|---|---|\n| lleckeyb6     | Lynne Leckey         | 4/19/1998 | lleckeyb6@tripadvisor.com | SA | 99977 | 3/14/2021  | sports |\n| cduftondy     | Celisse Dufton       | 8/24/1995 | cduftondy@ox.ac.uk        | OC | 99707 | 9/26/2021  | sports |\n| dbartalin77   | Desiree Bartalin     | 8/23/1993 | dbartalin77@usda.gov      | AF | 99618 | 5/30/2022  | music  |\n| grivardmp     | Gwen Rivard          | 9/12/1982 | grivardmp@google.com.hk   | OC | 99526 | 4/4/2020   | music  |\n| kmorriceht    | Kitti Morrice        | 6/3/1995  | kmorriceht@privacy.gov.au | SA | 98936 | 3/24/2021  | sports |\n| smacdonnell7o | Shoshanna MacDonnell | 9/12/2002 | smacdonnell7o@toplist.cz  | AS | 98760 | 7/20/2021  | music  |\n| ebroomq9      | Early Broom          | 3/10/2000 | ebroomq9@fastcompany.com  | AF | 98606 | 10/22/2023 | sports |\n| schapell4j    | Shepard Chapell      | 9/3/1993  | schapell4j@noaa.gov       | AS | 98479 | 2/14/2021  | music  |\n| schapell4j    | Shepard Chapell      | 9/3/1993  | schapell4j@noaa.gov       | AS | 98479 | 2/14/2021  | music  |\n| schapell4j    | Shepard Chapell      | 9/3/1993  | schapell4j@noaa.gov       | AS | 98479 | 2/14/2021  | music  |\n\n",
            "text/latex": "A data.frame: 10 × 8\n\\begin{tabular}{llllllll}\n username & full\\_name & birthdate & email & continent & followers & last\\_login & interests\\\\\n <chr> & <chr> & <chr> & <chr> & <chr> & <int> & <chr> & <chr>\\\\\n\\hline\n\t lleckeyb6     & Lynne Leckey         & 4/19/1998 & lleckeyb6@tripadvisor.com & SA & 99977 & 3/14/2021  & sports\\\\\n\t cduftondy     & Celisse Dufton       & 8/24/1995 & cduftondy@ox.ac.uk        & OC & 99707 & 9/26/2021  & sports\\\\\n\t dbartalin77   & Desiree Bartalin     & 8/23/1993 & dbartalin77@usda.gov      & AF & 99618 & 5/30/2022  & music \\\\\n\t grivardmp     & Gwen Rivard          & 9/12/1982 & grivardmp@google.com.hk   & OC & 99526 & 4/4/2020   & music \\\\\n\t kmorriceht    & Kitti Morrice        & 6/3/1995  & kmorriceht@privacy.gov.au & SA & 98936 & 3/24/2021  & sports\\\\\n\t smacdonnell7o & Shoshanna MacDonnell & 9/12/2002 & smacdonnell7o@toplist.cz  & AS & 98760 & 7/20/2021  & music \\\\\n\t ebroomq9      & Early Broom          & 3/10/2000 & ebroomq9@fastcompany.com  & AF & 98606 & 10/22/2023 & sports\\\\\n\t schapell4j    & Shepard Chapell      & 9/3/1993  & schapell4j@noaa.gov       & AS & 98479 & 2/14/2021  & music \\\\\n\t schapell4j    & Shepard Chapell      & 9/3/1993  & schapell4j@noaa.gov       & AS & 98479 & 2/14/2021  & music \\\\\n\t schapell4j    & Shepard Chapell      & 9/3/1993  & schapell4j@noaa.gov       & AS & 98479 & 2/14/2021  & music \\\\\n\\end{tabular}\n",
            "text/plain": [
              "   username      full_name            birthdate email                    \n",
              "1  lleckeyb6     Lynne Leckey         4/19/1998 lleckeyb6@tripadvisor.com\n",
              "2  cduftondy     Celisse Dufton       8/24/1995 cduftondy@ox.ac.uk       \n",
              "3  dbartalin77   Desiree Bartalin     8/23/1993 dbartalin77@usda.gov     \n",
              "4  grivardmp     Gwen Rivard          9/12/1982 grivardmp@google.com.hk  \n",
              "5  kmorriceht    Kitti Morrice        6/3/1995  kmorriceht@privacy.gov.au\n",
              "6  smacdonnell7o Shoshanna MacDonnell 9/12/2002 smacdonnell7o@toplist.cz \n",
              "7  ebroomq9      Early Broom          3/10/2000 ebroomq9@fastcompany.com \n",
              "8  schapell4j    Shepard Chapell      9/3/1993  schapell4j@noaa.gov      \n",
              "9  schapell4j    Shepard Chapell      9/3/1993  schapell4j@noaa.gov      \n",
              "10 schapell4j    Shepard Chapell      9/3/1993  schapell4j@noaa.gov      \n",
              "   continent followers last_login interests\n",
              "1  SA        99977     3/14/2021  sports   \n",
              "2  OC        99707     9/26/2021  sports   \n",
              "3  AF        99618     5/30/2022  music    \n",
              "4  OC        99526     4/4/2020   music    \n",
              "5  SA        98936     3/24/2021  sports   \n",
              "6  AS        98760     7/20/2021  music    \n",
              "7  AF        98606     10/22/2023 sports   \n",
              "8  AS        98479     2/14/2021  music    \n",
              "9  AS        98479     2/14/2021  music    \n",
              "10 AS        98479     2/14/2021  music    "
            ]
          },
          "metadata": {}
        }
      ]
    },
    {
      "cell_type": "code",
      "source": [
        "# Determine counts of users when grouped by continent.\n",
        "continent_count <- df2 %>% group_by(continent) %>% summarise(user_count = n())\n",
        "print(continent_count)"
      ],
      "metadata": {
        "id": "MjrZisnxlJUa",
        "colab": {
          "base_uri": "https://localhost:8080/"
        },
        "outputId": "5d812dde-f8b5-4da1-b3f9-efbf966916a0"
      },
      "execution_count": null,
      "outputs": [
        {
          "output_type": "stream",
          "name": "stdout",
          "text": [
            "\u001b[90m# A tibble: 5 × 2\u001b[39m\n",
            "  continent user_count\n",
            "  \u001b[3m\u001b[90m<chr>\u001b[39m\u001b[23m          \u001b[3m\u001b[90m<int>\u001b[39m\u001b[23m\n",
            "\u001b[90m1\u001b[39m AF                88\n",
            "\u001b[90m2\u001b[39m AS               165\n",
            "\u001b[90m3\u001b[39m EU               104\n",
            "\u001b[90m4\u001b[39m OC               119\n",
            "\u001b[90m5\u001b[39m SA                81\n"
          ]
        }
      ]
    }
  ]
}