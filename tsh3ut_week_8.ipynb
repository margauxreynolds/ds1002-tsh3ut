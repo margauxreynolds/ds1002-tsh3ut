{
  "nbformat": 4,
  "nbformat_minor": 0,
  "metadata": {
    "colab": {
      "provenance": [],
      "include_colab_link": true
    },
    "kernelspec": {
      "name": "python3",
      "display_name": "Python 3"
    },
    "language_info": {
      "name": "python"
    }
  },
  "cells": [
    {
      "cell_type": "markdown",
      "metadata": {
        "id": "view-in-github",
        "colab_type": "text"
      },
      "source": [
        "<a href=\"https://colab.research.google.com/github/margauxreynolds/ds1002-tsh3ut/blob/main/tsh3ut_week_8.ipynb\" target=\"_parent\"><img src=\"https://colab.research.google.com/assets/colab-badge.svg\" alt=\"Open In Colab\"/></a>"
      ]
    },
    {
      "cell_type": "markdown",
      "source": [
        "## While-Loops\n",
        "\n",
        "Perform the following steps in code:\n",
        "1. Define a variable and populate it with `0`.\n",
        "2. Create a while statement that evaluates whether that variable is less than or equal to `20`.\n",
        "3. Within the while loop evaluate if the variable value is even or odd.\n",
        "4. Within the while loop, if the variable value is even, print it. If not, do not print it.\n",
        "5. Within the while loop, finally add `1` to the variable before it repeats."
      ],
      "metadata": {
        "id": "But1V5T5qWJG"
      }
    },
    {
      "cell_type": "code",
      "source": [
        "# code here\n",
        "x = 0\n",
        "\n",
        "while x <= 20:\n",
        "  if x % 2 == 0:\n",
        "    print(x)\n",
        "  x = x + 1\n",
        ""
      ],
      "metadata": {
        "id": "GyQTkbqUq6SQ",
        "colab": {
          "base_uri": "https://localhost:8080/"
        },
        "outputId": "49d50f22-b7ec-42a6-adfc-aafeef02d347"
      },
      "execution_count": 1,
      "outputs": [
        {
          "output_type": "stream",
          "name": "stdout",
          "text": [
            "0\n",
            "2\n",
            "4\n",
            "6\n",
            "8\n",
            "10\n",
            "12\n",
            "14\n",
            "16\n",
            "18\n",
            "20\n"
          ]
        }
      ]
    },
    {
      "cell_type": "markdown",
      "source": [
        "## For-Loops with Lists"
      ],
      "metadata": {
        "id": "ghRg1MRwoXvD"
      }
    },
    {
      "cell_type": "code",
      "source": [
        "# Use this list in the exercises below\n",
        "\n",
        "mylist = [9, 15, 23, 4, 92, 47, 33, 17, -4, 18, 38, -242]"
      ],
      "metadata": {
        "id": "G0PaWRBuoZdQ"
      },
      "execution_count": 2,
      "outputs": []
    },
    {
      "cell_type": "code",
      "source": [
        "# Write a command to print out all the values of this list\n",
        "# EXCEPT for any negative values. Omit them from the printing.\n",
        "for num in mylist:\n",
        "  if num > 0:\n",
        "    print(num)"
      ],
      "metadata": {
        "id": "hzoe9vw3phWs",
        "colab": {
          "base_uri": "https://localhost:8080/"
        },
        "outputId": "9fc7d65d-0886-4761-fe27-f8a298a32c8a"
      },
      "execution_count": 7,
      "outputs": [
        {
          "output_type": "stream",
          "name": "stdout",
          "text": [
            "9\n",
            "15\n",
            "23\n",
            "4\n",
            "92\n",
            "47\n",
            "33\n",
            "17\n",
            "18\n",
            "38\n"
          ]
        }
      ]
    },
    {
      "cell_type": "code",
      "source": [
        "# Repeat the command from above, but this time get\n",
        "# the absolute value of any negative values in the list\n",
        "# and print those with the other items.\n",
        "for num in mylist:\n",
        "  if num < 0:\n",
        "    num = num * -1\n",
        "  print(num)"
      ],
      "metadata": {
        "id": "IE1-XLNrpnvy",
        "colab": {
          "base_uri": "https://localhost:8080/"
        },
        "outputId": "d2d55826-fb69-4e74-aeff-8972480e07e9"
      },
      "execution_count": 8,
      "outputs": [
        {
          "output_type": "stream",
          "name": "stdout",
          "text": [
            "9\n",
            "15\n",
            "23\n",
            "4\n",
            "92\n",
            "47\n",
            "33\n",
            "17\n",
            "4\n",
            "18\n",
            "38\n",
            "242\n"
          ]
        }
      ]
    },
    {
      "cell_type": "code",
      "source": [
        "# Similar to above, write a command to print out items in\n",
        "# the list but omit any values greater than 20 and less than 40.\n",
        "for num in mylist:\n",
        "  if (num < 20) or (num > 40):\n",
        "    print(num)"
      ],
      "metadata": {
        "id": "rC38pZowp4LX",
        "colab": {
          "base_uri": "https://localhost:8080/"
        },
        "outputId": "a359b2c4-cea4-4f52-978d-ca42805627be"
      },
      "execution_count": 11,
      "outputs": [
        {
          "output_type": "stream",
          "name": "stdout",
          "text": [
            "9\n",
            "15\n",
            "4\n",
            "92\n",
            "47\n",
            "17\n",
            "-4\n",
            "18\n",
            "-242\n"
          ]
        }
      ]
    },
    {
      "cell_type": "markdown",
      "source": [
        "## For-Loops with Dictionaries"
      ],
      "metadata": {
        "id": "BD1Wg4oSSEdz"
      }
    },
    {
      "cell_type": "code",
      "source": [
        "capitals = {'United States':'Washington DC',\n",
        "          'Italy':'Rome',\n",
        "          'England':'London',\n",
        "          'Thailand':'Bangkok',\n",
        "          'Brazil':'Brasilia'}"
      ],
      "metadata": {
        "id": "9DpHR_WzSGA8"
      },
      "execution_count": 16,
      "outputs": []
    },
    {
      "cell_type": "code",
      "source": [
        "# Write a command to print out all the keys of this dict\n",
        "for countries in capitals:\n",
        "  print(countries)"
      ],
      "metadata": {
        "id": "Iy_i6RE3S1ta",
        "colab": {
          "base_uri": "https://localhost:8080/"
        },
        "outputId": "d59d72fd-c413-4282-869d-89d7592d1e36"
      },
      "execution_count": 22,
      "outputs": [
        {
          "output_type": "stream",
          "name": "stdout",
          "text": [
            "United States\n",
            "Italy\n",
            "England\n",
            "Thailand\n",
            "Brazil\n"
          ]
        }
      ]
    },
    {
      "cell_type": "code",
      "source": [
        "# Write a command to print out all the values of this dict\n",
        "for caps in capitals:\n",
        "  print(capitals[caps])"
      ],
      "metadata": {
        "id": "eYNBRQAsS95v",
        "colab": {
          "base_uri": "https://localhost:8080/"
        },
        "outputId": "41241510-bc98-48e8-ee6f-39377e16088c"
      },
      "execution_count": 23,
      "outputs": [
        {
          "output_type": "stream",
          "name": "stdout",
          "text": [
            "Washington DC\n",
            "Rome\n",
            "London\n",
            "Bangkok\n",
            "Brasilia\n"
          ]
        }
      ]
    },
    {
      "cell_type": "code",
      "source": [
        "# Write a command to print all the keys and values for this dict\n",
        "for key, value in capitals.items():\n",
        "  print(key, \" \", value)\n"
      ],
      "metadata": {
        "id": "b1KYFdDxSH7X",
        "colab": {
          "base_uri": "https://localhost:8080/"
        },
        "outputId": "4a140de7-3b2c-429d-ee0d-ce5c701a2f9e"
      },
      "execution_count": 24,
      "outputs": [
        {
          "output_type": "stream",
          "name": "stdout",
          "text": [
            "United States   Washington DC\n",
            "Italy   Rome\n",
            "England   London\n",
            "Thailand   Bangkok\n",
            "Brazil   Brasilia\n"
          ]
        }
      ]
    },
    {
      "cell_type": "code",
      "source": [
        "# Write a command to print only the first three values and NOTHING more.\n",
        "count = 0\n",
        "for caps in capitals:\n",
        "  if count < 3:\n",
        "    print(capitals[caps])\n",
        "    count = count + 1\n",
        "  else:\n",
        "    break\n"
      ],
      "metadata": {
        "id": "pun10Fq2oonQ",
        "colab": {
          "base_uri": "https://localhost:8080/"
        },
        "outputId": "94bb4184-1990-4399-d72d-0b1a4469a8ee"
      },
      "execution_count": 29,
      "outputs": [
        {
          "output_type": "stream",
          "name": "stdout",
          "text": [
            "Washington DC\n",
            "Rome\n",
            "London\n"
          ]
        }
      ]
    }
  ]
}