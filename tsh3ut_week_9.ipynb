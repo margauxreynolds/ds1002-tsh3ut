{
  "nbformat": 4,
  "nbformat_minor": 0,
  "metadata": {
    "colab": {
      "provenance": [],
      "include_colab_link": true
    },
    "kernelspec": {
      "name": "python3",
      "display_name": "Python 3"
    },
    "language_info": {
      "name": "python"
    }
  },
  "cells": [
    {
      "cell_type": "markdown",
      "metadata": {
        "id": "view-in-github",
        "colab_type": "text"
      },
      "source": [
        "<a href=\"https://colab.research.google.com/github/margauxreynolds/ds1002-tsh3ut/blob/main/tsh3ut_week_9.ipynb\" target=\"_parent\"><img src=\"https://colab.research.google.com/assets/colab-badge.svg\" alt=\"Open In Colab\"/></a>"
      ]
    },
    {
      "cell_type": "markdown",
      "source": [
        "# Homework - Week 9\n",
        "\n",
        "Complete the following blocks as specified in the directions. Run each cell to return the desired output. Save your notebook back to your GitHub repository and submit the GitHub URL to your notebook for review."
      ],
      "metadata": {
        "id": "phbaQTT5gy8A"
      }
    },
    {
      "cell_type": "markdown",
      "source": [
        "## Functions\n",
        "\n",
        "In the cell below define a function that takes one parameter (in the form of a list) called `names` and returns a simple greeting for each name, such as\n",
        "\n",
        "    \"Hello Natasha, it's so nice to meet you\"\n",
        "    \"Hello Sid, it's so nice to meet you\"\n",
        "\n",
        "Define the function and run it, and in another cell below call the function populated with a var of a list of names."
      ],
      "metadata": {
        "id": "38Pg39pMrDua"
      }
    },
    {
      "cell_type": "code",
      "source": [
        "def greetings(namelist):\n",
        "  for name in namelist:\n",
        "    print(\"Hello \" + name + \", it's so nice to meet you!\")"
      ],
      "metadata": {
        "id": "kdFLCHtOg53p"
      },
      "execution_count": 109,
      "outputs": []
    },
    {
      "cell_type": "code",
      "source": [
        "namelist = [\"Margaux\", \"Lauren\", \"Caroline\", \"Julia\"]\n",
        "greetings(namelist)"
      ],
      "metadata": {
        "id": "JlNPe_XUsmog",
        "colab": {
          "base_uri": "https://localhost:8080/"
        },
        "outputId": "2a3964de-899a-4854-b9dd-e59a1999e349"
      },
      "execution_count": 110,
      "outputs": [
        {
          "output_type": "stream",
          "name": "stdout",
          "text": [
            "Hello Margaux, it's so nice to meet you!\n",
            "Hello Lauren, it's so nice to meet you!\n",
            "Hello Caroline, it's so nice to meet you!\n",
            "Hello Julia, it's so nice to meet you!\n"
          ]
        }
      ]
    },
    {
      "cell_type": "markdown",
      "source": [
        "Using the following list, pass it into a function you define that will evaluate the list and return a count of how many items is in it. Be creative.\n",
        "\n",
        "```\n",
        "mylist = [\"Toronto\",\"Buffalo\",\"Syracuse\",\"Albany\",\"Schenectady\",\"Brooklyn\",\"Rome\",\"Ithaca\"]\n",
        "```"
      ],
      "metadata": {
        "id": "mXqNACpkrdUZ"
      }
    },
    {
      "cell_type": "code",
      "source": [
        "mylist = [\"Toronto\",\"Buffalo\",\"Syracuse\",\"Albany\",\"Schenectady\",\"Brooklyn\",\"Rome\",\"Ithaca\"]\n",
        "\n",
        "def count_items(list):\n",
        "  count = 0\n",
        "  for item in list:\n",
        "    count += 1\n",
        "  return count\n",
        "\n",
        "count_items(mylist)"
      ],
      "metadata": {
        "id": "mvxOzRSisg0a",
        "colab": {
          "base_uri": "https://localhost:8080/"
        },
        "outputId": "9c8d9368-1661-4315-c1d1-e6d8d4e2de32"
      },
      "execution_count": 120,
      "outputs": [
        {
          "output_type": "execute_result",
          "data": {
            "text/plain": [
              "8"
            ]
          },
          "metadata": {},
          "execution_count": 120
        }
      ]
    },
    {
      "cell_type": "markdown",
      "source": [
        "## Input Validation\n",
        "\n",
        "Write a function below that defines two input parameters as `bool` and returns a `bool`.\n",
        "In the cell below that, populate two variables with two different bools (True and False)\n",
        "and pass them into a call of your function."
      ],
      "metadata": {
        "id": "YU7FXSCXsFab"
      }
    },
    {
      "cell_type": "code",
      "source": [
        "def true_or_false(bool1, bool2):\n",
        "  return bool1 and bool2"
      ],
      "metadata": {
        "id": "DGMJZjlysfHU"
      },
      "execution_count": 137,
      "outputs": []
    },
    {
      "cell_type": "code",
      "source": [
        "var1 = True\n",
        "var2 = False\n",
        "\n",
        "true_or_false(var1, var2)"
      ],
      "metadata": {
        "colab": {
          "base_uri": "https://localhost:8080/"
        },
        "id": "GdZyhH-6fu-2",
        "outputId": "a8ac9ec9-4bc3-44e8-d3d6-6059468373d8"
      },
      "execution_count": 138,
      "outputs": [
        {
          "output_type": "execute_result",
          "data": {
            "text/plain": [
              "False"
            ]
          },
          "metadata": {},
          "execution_count": 138
        }
      ]
    },
    {
      "cell_type": "markdown",
      "source": [
        "## Global Variables\n",
        "\n",
        "Define a global variable and populate it with a data type (int, str, bool, float, etc.)"
      ],
      "metadata": {
        "id": "xXZTr5fdsd5M"
      }
    },
    {
      "cell_type": "code",
      "source": [
        "num = 20"
      ],
      "metadata": {
        "id": "HN8CFLVRs6_L"
      },
      "execution_count": 125,
      "outputs": []
    },
    {
      "cell_type": "markdown",
      "source": [
        "Now create a function that prints out the global variable. Call the function and display the value of the var."
      ],
      "metadata": {
        "id": "G1Auc6l1s8F6"
      }
    },
    {
      "cell_type": "code",
      "source": [
        "def print_global_var():\n",
        "  print(num)\n",
        "\n",
        "print_global_var()"
      ],
      "metadata": {
        "id": "Q6O0Ep_wtBWJ",
        "colab": {
          "base_uri": "https://localhost:8080/"
        },
        "outputId": "cc1299c3-4f53-4ee8-f710-09ad8a03117a"
      },
      "execution_count": 126,
      "outputs": [
        {
          "output_type": "stream",
          "name": "stdout",
          "text": [
            "20\n"
          ]
        }
      ]
    },
    {
      "cell_type": "markdown",
      "source": [
        "Now create a function that creates its own global var and populates it.\n",
        "Call the function and then print out the global var from outside of the function."
      ],
      "metadata": {
        "id": "IN2TRQI8tCC4"
      }
    },
    {
      "cell_type": "code",
      "source": [
        "def create_global_var():\n",
        "  global xx\n",
        "  xx = 100\n",
        "\n",
        "create_global_var()\n",
        "print(xx)"
      ],
      "metadata": {
        "id": "Oz4rnmfTtKen",
        "colab": {
          "base_uri": "https://localhost:8080/"
        },
        "outputId": "7fc641a1-451d-4b40-9b14-c56140b635c0"
      },
      "execution_count": 127,
      "outputs": [
        {
          "output_type": "stream",
          "name": "stdout",
          "text": [
            "100\n"
          ]
        }
      ]
    },
    {
      "cell_type": "markdown",
      "source": [
        "Finally, write a function that updates the value of the global var you defined 3 cells above.\n",
        "\n",
        "1. Within the function, print out the global var you defined 3 cells above.\n",
        "2. Update the global var to have a new value.\n",
        "3. Within the function, print the new value of the global var.\n",
        "\n",
        "Call the function and once more print out the value of the global var from outside of the function."
      ],
      "metadata": {
        "id": "jv0dtym0tLZn"
      }
    },
    {
      "cell_type": "code",
      "source": [
        "def update_global_var():\n",
        "  global num\n",
        "  num = 10\n",
        "  print(num)\n",
        "\n",
        "update_global_var()\n",
        "print(num)\n"
      ],
      "metadata": {
        "id": "pnX-hfKouLcG",
        "colab": {
          "base_uri": "https://localhost:8080/"
        },
        "outputId": "9585a1e5-7a30-4ab6-9144-05ad56b7b49b"
      },
      "execution_count": 128,
      "outputs": [
        {
          "output_type": "stream",
          "name": "stdout",
          "text": [
            "10\n",
            "10\n"
          ]
        }
      ]
    }
  ]
}